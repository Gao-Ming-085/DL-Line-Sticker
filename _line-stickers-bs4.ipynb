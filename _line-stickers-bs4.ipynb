{
 "cells": [
  {
   "cell_type": "code",
   "execution_count": 1,
   "id": "026aaf59",
   "metadata": {},
   "outputs": [],
   "source": [
    "from bs4 import BeautifulSoup\n",
    "import requests, os, json\n",
    "\n",
    "folderPath = 'line_stickers'\n",
    "if not os.path.exists(folderPath):\n",
    "    os.makedirs(folderPath)"
   ]
  },
  {
   "cell_type": "code",
   "execution_count": 2,
   "id": "645350ea",
   "metadata": {},
   "outputs": [
    {
     "name": "stdout",
     "output_type": "stream",
     "text": [
      "貼圖ID：421797814, 下載連結：https://stickershop.line-scdn.net/stickershop/v1/sticker/421797814/iPhone/sticker@2x.png;compress=true\n",
      "貼圖ID：421797815, 下載連結：https://stickershop.line-scdn.net/stickershop/v1/sticker/421797815/iPhone/sticker@2x.png;compress=true\n",
      "貼圖ID：421797816, 下載連結：https://stickershop.line-scdn.net/stickershop/v1/sticker/421797816/iPhone/sticker@2x.png;compress=true\n",
      "貼圖ID：421797817, 下載連結：https://stickershop.line-scdn.net/stickershop/v1/sticker/421797817/iPhone/sticker@2x.png;compress=true\n",
      "貼圖ID：421797818, 下載連結：https://stickershop.line-scdn.net/stickershop/v1/sticker/421797818/iPhone/sticker@2x.png;compress=true\n",
      "貼圖ID：421797819, 下載連結：https://stickershop.line-scdn.net/stickershop/v1/sticker/421797819/iPhone/sticker@2x.png;compress=true\n",
      "貼圖ID：421797820, 下載連結：https://stickershop.line-scdn.net/stickershop/v1/sticker/421797820/iPhone/sticker@2x.png;compress=true\n",
      "貼圖ID：421797821, 下載連結：https://stickershop.line-scdn.net/stickershop/v1/sticker/421797821/iPhone/sticker@2x.png;compress=true\n",
      "貼圖ID：421797822, 下載連結：https://stickershop.line-scdn.net/stickershop/v1/sticker/421797822/iPhone/sticker@2x.png;compress=true\n",
      "貼圖ID：421797823, 下載連結：https://stickershop.line-scdn.net/stickershop/v1/sticker/421797823/iPhone/sticker@2x.png;compress=true\n",
      "貼圖ID：421797824, 下載連結：https://stickershop.line-scdn.net/stickershop/v1/sticker/421797824/iPhone/sticker@2x.png;compress=true\n",
      "貼圖ID：421797825, 下載連結：https://stickershop.line-scdn.net/stickershop/v1/sticker/421797825/iPhone/sticker@2x.png;compress=true\n",
      "貼圖ID：421797826, 下載連結：https://stickershop.line-scdn.net/stickershop/v1/sticker/421797826/iPhone/sticker@2x.png;compress=true\n",
      "貼圖ID：421797827, 下載連結：https://stickershop.line-scdn.net/stickershop/v1/sticker/421797827/iPhone/sticker@2x.png;compress=true\n",
      "貼圖ID：421797828, 下載連結：https://stickershop.line-scdn.net/stickershop/v1/sticker/421797828/iPhone/sticker@2x.png;compress=true\n",
      "貼圖ID：421797829, 下載連結：https://stickershop.line-scdn.net/stickershop/v1/sticker/421797829/iPhone/sticker@2x.png;compress=true\n",
      "貼圖ID：421797830, 下載連結：https://stickershop.line-scdn.net/stickershop/v1/sticker/421797830/iPhone/sticker@2x.png;compress=true\n",
      "貼圖ID：421797831, 下載連結：https://stickershop.line-scdn.net/stickershop/v1/sticker/421797831/iPhone/sticker@2x.png;compress=true\n",
      "貼圖ID：421797832, 下載連結：https://stickershop.line-scdn.net/stickershop/v1/sticker/421797832/iPhone/sticker@2x.png;compress=true\n",
      "貼圖ID：421797833, 下載連結：https://stickershop.line-scdn.net/stickershop/v1/sticker/421797833/iPhone/sticker@2x.png;compress=true\n",
      "貼圖ID：421797834, 下載連結：https://stickershop.line-scdn.net/stickershop/v1/sticker/421797834/iPhone/sticker@2x.png;compress=true\n",
      "貼圖ID：421797835, 下載連結：https://stickershop.line-scdn.net/stickershop/v1/sticker/421797835/iPhone/sticker@2x.png;compress=true\n",
      "貼圖ID：421797836, 下載連結：https://stickershop.line-scdn.net/stickershop/v1/sticker/421797836/iPhone/sticker@2x.png;compress=true\n",
      "貼圖ID：421797837, 下載連結：https://stickershop.line-scdn.net/stickershop/v1/sticker/421797837/iPhone/sticker@2x.png;compress=true\n"
     ]
    }
   ],
   "source": [
    "\n",
    "listLineStickers = []\n",
    "url = 'https://store.line.me/stickershop/product/24142/zh-Hant'\n",
    "my_headers = {\n",
    "    'user-agent': 'Mozilla/5.0 (Macintosh; Intel Mac OS X 10_15_7) AppleWebKit/537.36 (KHTML, like Gecko) Chrome/94.0.4606.61 Safari/537.36'\n",
    "}\n",
    "\n",
    "response = requests.get(url, headers = my_headers)\n",
    "\n",
    "soup = BeautifulSoup(response.text,'lxml')\n",
    "\n",
    "for li in soup.select('ul.mdCMN09Ul.FnStickerList > li.mdCMN09Li.FnStickerPreviewItem'):\n",
    "    strJson = li['data-preview']\n",
    "    \n",
    "    obj = json.loads(strJson)\n",
    "    \n",
    "    listLineStickers.append({\n",
    "        'id':obj['id'],\n",
    "        'link':obj['staticUrl']\n",
    "    })\n",
    "\n",
    "for obj in listLineStickers:\n",
    "    os.system(f\"curl {obj['link']} -o {folderPath}/{obj['id']}.png\")\n",
    "    print(f\"貼圖ID：{obj['id']}, 下載連結：{obj['link']}\")"
   ]
  },
  {
   "cell_type": "code",
   "execution_count": null,
   "id": "e7a21c0b",
   "metadata": {},
   "outputs": [],
   "source": []
  }
 ],
 "metadata": {
  "kernelspec": {
   "display_name": "Python 3",
   "language": "python",
   "name": "python3"
  },
  "language_info": {
   "codemirror_mode": {
    "name": "ipython",
    "version": 3
   },
   "file_extension": ".py",
   "mimetype": "text/x-python",
   "name": "python",
   "nbconvert_exporter": "python",
   "pygments_lexer": "ipython3",
   "version": "3.8.8"
  }
 },
 "nbformat": 4,
 "nbformat_minor": 5
}
